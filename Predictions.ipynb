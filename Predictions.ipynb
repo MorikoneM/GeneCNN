{
 "cells": [
  {
   "cell_type": "code",
   "execution_count": null,
   "id": "8b65754e-465c-49b0-af90-cdd2475f91bb",
   "metadata": {},
   "outputs": [],
   "source": [
    "'''\n",
    "GeneCNN, a convolutional neural network-based gene predictor\n",
    "Developed by Michael Morikone\n",
    "Requires a genome file and transcriptomic data\n",
    "Tested with the masked flattened buffalograss genome and 6 transcriptomic datasets from 4 different BioProjects\n",
    "\n",
    "Predictions were run using the first pseudochromosome of the buffalograss genome\n",
    "'''"
   ]
  },
  {
   "cell_type": "code",
   "execution_count": null,
   "id": "5b919e8e-b2ea-465c-805c-c7bd8e1edda3",
   "metadata": {},
   "outputs": [],
   "source": [
    "import numpy as np\n",
    "import tensorflow as tf\n",
    "from Bio import SeqIO\n",
    "from Bio.Seq import Seq\n",
    "from Bio.SeqRecord import SeqRecord\n",
    "import random\n",
    "import keras_tuner as kt\n",
    "from tensorflow import keras\n",
    "from tensorflow.python.ops.numpy_ops import np_config\n",
    "np_config.enable_numpy_behavior()\n",
    "np.random.seed(25)\n",
    "import statistics"
   ]
  },
  {
   "cell_type": "code",
   "execution_count": null,
   "id": "5dd2f9f6-81f3-4ce7-9153-684235b646b0",
   "metadata": {
    "tags": []
   },
   "outputs": [],
   "source": [
    "#only using first pseudochromosome of buffalograss for comparisons\n",
    "chr1 = SeqIO.parse(\"chr1_hard_model_mask.fasta\", \"fasta\")\n",
    "\n",
    "totalseqs = []\n",
    "seqs_ids = [] \n",
    "\n",
    "#convert SeqIO object into list\n",
    "for sequences in chr1: \n",
    "    totalseqs.append(str(sequences.seq))\n",
    "    seqs_ids.append(sequences.id)\n",
    "\n",
    "# Flatten genome and create associated vector with scaffold assignment per base\n",
    "chromosome = []\n",
    "\n",
    "for i in range(len(seqs_ids)):\n",
    "    for j in range(len(totalseqs[i])):\n",
    "        chromosome.append(totalseqs[i][j])\n",
    "\n",
    "tiny_chromosome = chromosome[0:9983999] #first 9.984m nucleotides"
   ]
  },
  {
   "cell_type": "code",
   "execution_count": null,
   "id": "051eec03-d59e-435a-a11d-c0e776dd87ca",
   "metadata": {},
   "outputs": [],
   "source": [
    "#outputs tiny_chromosome to fasta file, uncomment if needed\n",
    "\n",
    "'''test_seq10m = Seq(''.join(map(str,tiny_chromosome)))\n",
    "test_10m_chunk = SeqRecord(test_seq10m)\n",
    "test_10m_chunk.id = \"First10mChunk\"\n",
    "with open(\"test_10m_chunk.fasta\", \"w\") as out:\n",
    "    SeqIO.write(test_10m_chunk, out, \"fasta\")'''"
   ]
  },
  {
   "cell_type": "code",
   "execution_count": null,
   "id": "461d9eba-ac49-4398-8dc1-8393e7b04d46",
   "metadata": {},
   "outputs": [],
   "source": [
    "#sliding window function\n",
    "def window_split(elements, window_size):\n",
    "    \n",
    "    if len(elements) <= window_size:\n",
    "       return #can't feed a <500 length sequence without padding \n",
    "    for i in range(len(elements)- window_size + 1):\n",
    "        yield elements[i:i+window_size] #generating output, too large to output at once"
   ]
  },
  {
   "cell_type": "code",
   "execution_count": null,
   "id": "ad63d743-cc2f-46d5-b739-ddcf9e160f43",
   "metadata": {},
   "outputs": [],
   "source": [
    "# data preparation for one hot encoding, conversion of alphabetic representation of nucleotides to numeric representation\n",
    "\n",
    "#convert all of input sequence into 0-3 to prep for one hot\n",
    "def ordinal(sequence):\n",
    "    working = sequence # to not keep calling next on generator\n",
    "    ordinal_chromosome = []\n",
    "    \n",
    "    for base in range(len(working)):\n",
    "        if working[base] == 'A':\n",
    "            ordinal_chromosome.append(0)\n",
    "        elif working[base] == 'C':\n",
    "            ordinal_chromosome.append(1)\n",
    "        elif working[base] == 'G':\n",
    "            ordinal_chromosome.append(2)\n",
    "        else:\n",
    "            ordinal_chromosome.append(3)\n",
    "    return ordinal_chromosome"
   ]
  },
  {
   "cell_type": "code",
   "execution_count": null,
   "id": "4e683f9d-422a-4ebd-b807-2bbfd8fec29f",
   "metadata": {},
   "outputs": [],
   "source": [
    "#one-hot encoding function\n",
    "\n",
    "def one_hot_encode(ordinal_sequence):\n",
    "    genome_category_count = 4\n",
    "    binary_chromosome = tf.one_hot(ordinal_sequence, genome_category_count)\n",
    "    return binary_chromosome"
   ]
  },
  {
   "cell_type": "code",
   "execution_count": null,
   "id": "867f87a8-b49c-4d70-8258-d4004ee2f25e",
   "metadata": {},
   "outputs": [],
   "source": [
    "#load saved model from CNN.ipynb\n",
    "model = tf.keras.models.load_model(\"Bayesian2\")"
   ]
  },
  {
   "cell_type": "code",
   "execution_count": null,
   "id": "58490f6c-9812-49b5-8881-083c93c50165",
   "metadata": {},
   "outputs": [],
   "source": [
    "#predict sliding windows using saved model, generates output predictions across entire tiny_chromosome\n",
    "\n",
    "window = window_split(tiny_chromosome, 500) \n",
    "first = last = next(window)\n",
    "current_slide = []\n",
    "first_loop = True #to get first value of generator\n",
    "results = []\n",
    "chunk_size = 16000 #16k for optimal batch sizing\n",
    "chunk_counter = 0\n",
    "for last in window:\n",
    "    if chunk_counter < chunk_size:\n",
    "        if first_loop == True:\n",
    "            current_slide.append(one_hot_encode(ordinal(first)))\n",
    "            first_loop = False\n",
    "            chunk_counter = 1\n",
    "        current_slide.append(one_hot_encode(ordinal(last))) \n",
    "        chunk_counter = chunk_counter + 1\n",
    "    else:\n",
    "        current_slide = tf.convert_to_tensor(current_slide)\n",
    "        current_results = model.predict(current_slide)\n",
    "        for i in range(len(current_results)):\n",
    "            results.append(list(current_results[i]))\n",
    "        current_slide = []\n",
    "        current_slide.append(one_hot_encode(ordinal(last)))\n",
    "        if len(results) < len(tiny_chromosome) - 499: #genome length - sliding window size + 1\n",
    "            chunk_counter = 1 "
   ]
  },
  {
   "cell_type": "code",
   "execution_count": null,
   "id": "c76586cb-3d8e-4d4e-8c89-f3c05dcb68a5",
   "metadata": {},
   "outputs": [],
   "source": [
    "#sliding window approach used to generate matrix that has historical predictions for every nucleotide position\n",
    "\n",
    "total_list = [[2] for element in range(len(results))] #value 2 for initialization to be overwritten by 0 or 1\n",
    "\n",
    "first_matrix_loop = True\n",
    "matrix_window_size = 500\n",
    "for i in range(len(results)- matrix_window_size + 1): #sliding window across matrix\n",
    "    for j in range(0, matrix_window_size): #assignment of result from prediction sliding window to matrix sliding window \n",
    "        if total_list[i+j] == [2]: #removal of initialization value\n",
    "            if results[i][0] > results[i][1]:\n",
    "                total_list[i+j] = [0]\n",
    "            else:\n",
    "                total_list[i+j] = [1]\n",
    "        else:\n",
    "            if results[i][0] > results[i][1]:\n",
    "                total_list[i+j].append(0)\n",
    "            else:\n",
    "                total_list[i+j].append(1)"
   ]
  },
  {
   "cell_type": "code",
   "execution_count": null,
   "id": "10dd3c27-a009-40dd-93ea-34f120d00c63",
   "metadata": {},
   "outputs": [],
   "source": [
    "#create average value for each nucleotide position\n",
    "\n",
    "averaged_base = []\n",
    "for i in range(len(total_list)):\n",
    "    if statistics.fmean(total_list[i]) < 0.5:\n",
    "        averaged_base.append(0)\n",
    "    else:\n",
    "        averaged_base.append(1)"
   ]
  },
  {
   "cell_type": "code",
   "execution_count": null,
   "id": "cdaff564-52fb-4e6b-9c4a-893463c8062d",
   "metadata": {},
   "outputs": [],
   "source": [
    "#create contiguous sequences out of all genic predicted nucleotides\n",
    "\n",
    "current_seq_len = 0\n",
    "start_location = 0\n",
    "end_location = 0\n",
    "all_contigs = []\n",
    "first_1 = True\n",
    "for contiguous in range(len(averaged_base)):\n",
    "    if averaged_base[contiguous] == 1:\n",
    "        current_seq_len = current_seq_len + 1\n",
    "        if first_1 == True:\n",
    "            start_location = contiguous\n",
    "            first_1 = False\n",
    "    else:\n",
    "        if averaged_base[contiguous - 1] == 1:\n",
    "            end_location = contiguous - 1\n",
    "            all_contigs.append([start_location, end_location, current_seq_len])\n",
    "            first_1 = True\n",
    "        current_seq_len = 0"
   ]
  },
  {
   "cell_type": "code",
   "execution_count": null,
   "id": "54a6d84d-2803-4a77-afc4-d193b92248ff",
   "metadata": {},
   "outputs": [],
   "source": [
    "#create fasta file where all predictions must be 200 bp length or larger\n",
    "#fasta file has predictions in sequence field and prediction start site in header field\n",
    "\n",
    "fasta_dict = {}\n",
    "for fasta_gen in range(len(all_contigs)):\n",
    "    if all_contigs[fasta_gen][2] >= 200: \n",
    "        fasta_dict[str(all_contigs[fasta_gen][0])] =  ''.join(map(str,tiny_chromosome[all_contigs[fasta_gen][0]:all_contigs[fasta_gen][1]]))\n",
    "\n",
    "output_path = 'chr1_hard_model_mask_test_first_10m_250bp_gene_predictions.fasta'\n",
    "output_file = open(output_path,'w')\n",
    "for header, fasta_seq in fasta_dict.items():\n",
    "    identifier_line = \">\" + header + \"\\n\"\n",
    "    output_file.write(identifier_line)\n",
    "    sequence_line = fasta_seq + \"\\n\"\n",
    "    output_file.write(sequence_line)\n",
    "    \n",
    "output_file.close()"
   ]
  }
 ],
 "metadata": {
  "kernelspec": {
   "display_name": "tensorflow-gpu-2.11.custom",
   "language": "python",
   "name": "tensorflow-gpu-2.11.custom"
  },
  "language_info": {
   "codemirror_mode": {
    "name": "ipython",
    "version": 3
   },
   "file_extension": ".py",
   "mimetype": "text/x-python",
   "name": "python",
   "nbconvert_exporter": "python",
   "pygments_lexer": "ipython3",
   "version": "3.9.16"
  }
 },
 "nbformat": 4,
 "nbformat_minor": 5
}
